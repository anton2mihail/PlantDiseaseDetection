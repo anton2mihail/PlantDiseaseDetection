{
 "cells": [
  {
   "cell_type": "code",
   "execution_count": null,
   "metadata": {},
   "outputs": [],
   "source": [
    "import numpy as np\n",
    "import matplotlib.pyplot as plt \n",
    "import cv2\n",
    "import glob\n",
    "import seaborn as sns\n",
    "import matplotlib.image as mpimg\n",
    "import os\n",
    "import scipy\n",
    "import gc\n",
    "\n",
    "# This is a bit of magic to make matplotlib figures appear inline in the notebook\n",
    "# rather than in a new window.\n",
    "%matplotlib inline\n",
    "%load_ext autoreload\n",
    "%autoreload 2\n"
   ]
  },
  {
   "cell_type": "code",
   "execution_count": null,
   "metadata": {},
   "outputs": [],
   "source": [
    "def loadImages(path):\n",
    "    # Put files into lists and return them as one list of size 4\n",
    "    image_files = sorted([os.path.join(path, file)\n",
    "         for file in os.listdir(path) if      file.endswith('.tif')])\n",
    " \n",
    "    return image_files"
   ]
  },
  {
   "cell_type": "code",
   "execution_count": null,
   "metadata": {},
   "outputs": [],
   "source": [
    "# Display one image\n",
    "def display_one(a, title1 = \"Original\"):\n",
    "    plt.imshow(a), plt.title(title1)\n",
    "    plt.xticks([]), plt.yticks([])\n",
    "    plt.show()# Display two images\n",
    "def display(a, b, title1 = \"Original\", title2 = \"Edited\"):\n",
    "    plt.subplot(121), plt.imshow(a), plt.title(title1)\n",
    "    plt.xticks([]), plt.yticks([])\n",
    "    plt.subplot(122), plt.imshow(b), plt.title(title2)\n",
    "    plt.xticks([]), plt.yticks([])\n",
    "    plt.show()# Preprocessing\n",
    "def processing(data):\n",
    "    # loading image\n",
    "    # Getting all images to work with \n",
    "    img = [cv2.imread(i, cv2.IMREAD_COLOR) for i in data]    \n",
    "    print('Original size',img[0].shape)\n",
    "    # --------------------------------\n",
    "    # setting dim of the resize\n",
    "    height = 128\n",
    "    width = 128\n",
    "    dim = (width, height)\n",
    "    res_img = []\n",
    "    for i in range(len(img)):\n",
    "        res = cv2.resize(img[i], dim, interpolation=cv2.INTER_CUBIC)\n",
    "        res_img.append(res)\n",
    "\n",
    "    # Checcking the size\n",
    "    print(\"RESIZED\", res_img[1].shape)\n",
    "    print(\"RESIZED type\", res_img[1].dtype)\n",
    "    \n",
    "    # Visualizing one of the images in the array\n",
    "    original = res_img[1]\n",
    "    display_one(original)\n",
    "    # ----------------------------------\n",
    "    # Remove noise\n",
    "    # Gaussian\n",
    "    no_noise = []\n",
    "    for i in range(len(res_img)):\n",
    "        blur = cv2.GaussianBlur(res_img[i], (5, 5), 0)\n",
    "        no_noise.append(blur)\n",
    "\n",
    "\n",
    "    image = no_noise[1]\n",
    "    m = len(no_noise)\n",
    "    display(original, image, 'Original', 'Blured')\n",
    "    Y = np.zeros((1,m))\n",
    "    count = 0\n",
    "    for img in range(len(no_noise)):\n",
    "        if img < 1100:\n",
    "            Y[0, img] = 0\n",
    "        elif img > 1100 and img < 2200:\n",
    "            Y[0, img] = 1\n",
    "        elif img > 2200 and img < 3300:\n",
    "            Y[0, img] = 2\n",
    "        else:\n",
    "            Y[0, img] = 3\n",
    "            \n",
    "    \n",
    "    \n",
    "    return no_noise, Y\n",
    "    #---------------------------------\n",
    "    "
   ]
  },
  {
   "cell_type": "code",
   "execution_count": null,
   "metadata": {},
   "outputs": [],
   "source": [
    "from sklearn.model_selection import train_test_split\n",
    "\n",
    "# defining global variable path\n",
    "dirname = os.path.abspath('')\n",
    "print(dirname)\n",
    "image_path = os.path.join(dirname, 'dataset/dataset')\n",
    "print(image_path)\n",
    "classes = [\"broadleaf\",\"grass\",\"soil\",\"soybean\"]\n",
    "    \n",
    "broadleaf = loadImages(os.path.join(image_path,\"broadleaf\"))\n",
    "   \n",
    "grass = loadImages(os.path.join(image_path,\"grass\"))\n",
    "    \n",
    "soil = loadImages(os.path.join(image_path,\"soil\"))\n",
    "    \n",
    "soybean = loadImages(os.path.join(image_path,\"soybean\"))\n",
    "    \n",
    "images = np.concatenate((broadleaf, grass, soil, soybean), axis=0)\n",
    "    \n",
    "print(\"List of files the first 3 in the folder:\\n\",broadleaf[:3])\n",
    "print(\"--------------------------------\")\n",
    "del broadleaf\n",
    "del grass\n",
    "del soil\n",
    "del soybean\n",
    "gc.collect()"
   ]
  },
  {
   "cell_type": "code",
   "execution_count": null,
   "metadata": {},
   "outputs": [],
   "source": [
    "# sending all the images to pre-processing\n",
    "X, Y = processing(images)\n",
    "X = np.array(X)\n",
    "    \n",
    "del images\n",
    "gc.collect()\n",
    "    \n",
    "print(\"Checking if lengths are consistent\")\n",
    "print(X.size)\n",
    "print(X.shape)\n",
    "print(Y.size)\n",
    "print(Y.shape)\n",
    "print(\"--------------------------------\")"
   ]
  },
  {
   "cell_type": "code",
   "execution_count": null,
   "metadata": {},
   "outputs": [],
   "source": [
    "ROWS = 128\n",
    "COLS = 128\n",
    "CHANNELS = 3\n",
    "X_train, X_test, y_train, y_test = train_test_split(X,Y[0],test_size=0.18, random_state=43)\n",
    "\n",
    "from keras.utils import to_categorical\n",
    "\n",
    "y_train = to_categorical(y_train)\n",
    "y_test = to_categorical(y_test)\n",
    "\n",
    "del X\n",
    "del Y\n",
    "gc.collect()\n",
    "\n",
    "# train_set_x_flatten = X_train.reshape(X_train.shape[0], ROWS*COLS*CHANNELS).T\n",
    "# test_set_x_flatten = X_test.reshape(X_test.shape[0], -1).T\n",
    "\n",
    "# del X_train\n",
    "# del X_test\n",
    "# gc.collect()\n",
    "\n",
    "# train_set_x = train_set_x_flatten/255\n",
    "# test_set_x = test_set_x_flatten/255\n",
    "\n",
    "# del train_set_x_flatten\n",
    "# del test_set_x_flatten\n",
    "# gc.collect()"
   ]
  },
  {
   "cell_type": "code",
   "execution_count": null,
   "metadata": {},
   "outputs": [],
   "source": [
    "from keras.models import Sequential\n",
    "from keras.layers import Dense, Conv2D, Flatten, MaxPooling2D\n",
    "model = Sequential()#add model layers\n",
    "model.add(Conv2D(64, kernel_size=3, activation=\"relu\", input_shape=(128,128,3)))\n",
    "model.add(MaxPooling2D(pool_size=(2,2)))\n",
    "model.add(Conv2D(32, kernel_size=3, activation=\"relu\"))\n",
    "model.add(MaxPooling2D(pool_size=(2,2)))\n",
    "model.add(Conv2D(16, kernel_size=3, activation=\"relu\"))\n",
    "model.add(MaxPooling2D(pool_size=(2,2)))\n",
    "model.add(Flatten())\n",
    "model.add(Dense(4, activation=\"softmax\"))"
   ]
  },
  {
   "cell_type": "code",
   "execution_count": null,
   "metadata": {},
   "outputs": [],
   "source": [
    "#compile model using accuracy to measure model performance\n",
    "model.compile(optimizer='adam', loss='categorical_crossentropy', metrics=['accuracy'])\n",
    "model.summary()"
   ]
  },
  {
   "cell_type": "code",
   "execution_count": null,
   "metadata": {},
   "outputs": [],
   "source": [
    "#train the model\n",
    "trained_model = model.fit(X_train, y_train, validation_data=(X_test, y_test), epochs=12)"
   ]
  },
  {
   "cell_type": "code",
   "execution_count": null,
   "metadata": {},
   "outputs": [],
   "source": [
    "# preds = model.predict(X_test[:790])\n",
    "actual = y_test[:790]\n",
    "\n",
    "test_eval = model.evaluate(X_test[:790], actual, verbose=1)"
   ]
  },
  {
   "cell_type": "code",
   "execution_count": null,
   "metadata": {},
   "outputs": [],
   "source": [
    "print('Test loss:', test_eval[0])\n",
    "print('Test accuracy:', test_eval[1])"
   ]
  },
  {
   "cell_type": "code",
   "execution_count": null,
   "metadata": {},
   "outputs": [],
   "source": [
    "accuracy = trained_model.history['acc']\n",
    "val_accuracy = trained_model.history['val_acc']\n",
    "loss = trained_model.history['loss']\n",
    "val_loss = trained_model.history['val_loss']\n",
    "epochs = range(len(accuracy))\n",
    "plt.plot(epochs, accuracy, 'bo', label='Training accuracy')\n",
    "plt.plot(epochs, val_accuracy, 'b', label='Validation accuracy')\n",
    "plt.title('Training and validation accuracy')\n",
    "plt.legend()\n",
    "plt.figure()\n",
    "plt.plot(epochs, loss, 'bo', label='Training loss')\n",
    "plt.plot(epochs, val_loss, 'b', label='Validation loss')\n",
    "plt.title('Training and validation loss')\n",
    "plt.legend()\n",
    "plt.show()"
   ]
  },
  {
   "cell_type": "code",
   "execution_count": null,
   "metadata": {},
   "outputs": [],
   "source": [
    "# On this iteration it got 50% out of 4... Not statistically relevant\n",
    "# But i may try it again on much more data in the near future\n",
    "# pred_vals = []\n",
    "# act_vals = []\n",
    "# for x in range(len(preds)):\n",
    "#     max_val_x = max(preds[x])\n",
    "#     idx_x = list(preds[x]).index(max_val_x)\n",
    "#     max_val_y = max(actual[x])\n",
    "#     idx_y = list(actual[x]).index(max_val_y)\n",
    "#     pred_vals.append(idx_x)\n",
    "#     act_vals.append(idx_y)\n",
    "    \n",
    "    \n",
    "# print(confusion_matrix(actual, preds))\n",
    "# print(classification_report(actual, preds))\n"
   ]
  },
  {
   "cell_type": "code",
   "execution_count": null,
   "metadata": {},
   "outputs": [],
   "source": [
    "# import pandas as pd\n",
    "# x, y = pd.Series(pred_vals, name=\"Predicted\"), pd.Series(act_vals, name=\"Actual\")\n",
    "# sns.regplot(x=x, y=y, marker=\"+\")"
   ]
  },
  {
   "cell_type": "code",
   "execution_count": null,
   "metadata": {},
   "outputs": [],
   "source": [
    "# df = pd.DataFrame(columns=classes)\n",
    "\n",
    "# print(df)\n",
    "\n",
    "# # sns.ksdeplot(preds, color=['b', 'r', 'g', 'y'])\n",
    "# # sns.distplot(actual,  color=['b', 'r', 'g', 'y'])"
   ]
  },
  {
   "cell_type": "code",
   "execution_count": null,
   "metadata": {},
   "outputs": [],
   "source": []
  }
 ],
 "metadata": {
  "kernelspec": {
   "display_name": "Python 3",
   "language": "python",
   "name": "python3"
  },
  "language_info": {
   "codemirror_mode": {
    "name": "ipython",
    "version": 3
   },
   "file_extension": ".py",
   "mimetype": "text/x-python",
   "name": "python",
   "nbconvert_exporter": "python",
   "pygments_lexer": "ipython3",
   "version": "3.6.8"
  }
 },
 "nbformat": 4,
 "nbformat_minor": 4
}
